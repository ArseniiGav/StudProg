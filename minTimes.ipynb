{
 "cells": [
  {
   "cell_type": "code",
   "execution_count": 1,
   "metadata": {},
   "outputs": [],
   "source": [
    "import pandas as pd\n",
    "import h5py\n",
    "import numpy as np\n",
    "ifname = \"C:/Users/Arsenii/JUNO/processed_0.hdf5\"\n",
    "\n",
    "evtIDs = [i for i in range(0, 2000, 1)]\n",
    "\n",
    "minTimeLPMT_array = []\n",
    "minTimeSPMT_array = []\n",
    "\n",
    "f_in = h5py.File(ifname, \"r\")\n",
    "\n",
    "for evtID in evtIDs:\n",
    "    \n",
    "    minTimeLMPT = f_in['lpmt_hits']['hitTime'][evtID].min()\n",
    "    minTimeLPMT_array.append(minTimeLMPT)\n",
    "    \n",
    "    minTimeSPMT = f_in['spmt_hits']['hitTime'][evtID].min()\n",
    "    minTimeSPMT_array.append(minTimeSPMT)\n",
    "            \n",
    "f_in.close()\n"
   ]
  },
  {
   "cell_type": "code",
   "execution_count": 2,
   "metadata": {},
   "outputs": [],
   "source": [
    "df = pd.DataFrame(np.array([minTimeLPMT_array, minTimeSPMT_array]).T, columns=['minTimeLMPT', 'minTimeSPMT'])"
   ]
  },
  {
   "cell_type": "code",
   "execution_count": 3,
   "metadata": {},
   "outputs": [
    {
     "data": {
      "text/html": [
       "<div>\n",
       "<style scoped>\n",
       "    .dataframe tbody tr th:only-of-type {\n",
       "        vertical-align: middle;\n",
       "    }\n",
       "\n",
       "    .dataframe tbody tr th {\n",
       "        vertical-align: top;\n",
       "    }\n",
       "\n",
       "    .dataframe thead th {\n",
       "        text-align: right;\n",
       "    }\n",
       "</style>\n",
       "<table border=\"1\" class=\"dataframe\">\n",
       "  <thead>\n",
       "    <tr style=\"text-align: right;\">\n",
       "      <th></th>\n",
       "      <th>minTimeLMPT</th>\n",
       "      <th>minTimeSPMT</th>\n",
       "    </tr>\n",
       "  </thead>\n",
       "  <tbody>\n",
       "    <tr>\n",
       "      <th>0</th>\n",
       "      <td>0.151929</td>\n",
       "      <td>31.260576</td>\n",
       "    </tr>\n",
       "    <tr>\n",
       "      <th>1</th>\n",
       "      <td>0.107570</td>\n",
       "      <td>24.282885</td>\n",
       "    </tr>\n",
       "    <tr>\n",
       "      <th>2</th>\n",
       "      <td>0.059060</td>\n",
       "      <td>54.783138</td>\n",
       "    </tr>\n",
       "    <tr>\n",
       "      <th>3</th>\n",
       "      <td>0.008964</td>\n",
       "      <td>48.260670</td>\n",
       "    </tr>\n",
       "    <tr>\n",
       "      <th>4</th>\n",
       "      <td>0.004383</td>\n",
       "      <td>37.048595</td>\n",
       "    </tr>\n",
       "    <tr>\n",
       "      <th>...</th>\n",
       "      <td>...</td>\n",
       "      <td>...</td>\n",
       "    </tr>\n",
       "    <tr>\n",
       "      <th>1995</th>\n",
       "      <td>0.034794</td>\n",
       "      <td>19.742989</td>\n",
       "    </tr>\n",
       "    <tr>\n",
       "      <th>1996</th>\n",
       "      <td>0.062995</td>\n",
       "      <td>35.169987</td>\n",
       "    </tr>\n",
       "    <tr>\n",
       "      <th>1997</th>\n",
       "      <td>0.046345</td>\n",
       "      <td>20.075399</td>\n",
       "    </tr>\n",
       "    <tr>\n",
       "      <th>1998</th>\n",
       "      <td>0.029867</td>\n",
       "      <td>21.262285</td>\n",
       "    </tr>\n",
       "    <tr>\n",
       "      <th>1999</th>\n",
       "      <td>0.032543</td>\n",
       "      <td>38.260548</td>\n",
       "    </tr>\n",
       "  </tbody>\n",
       "</table>\n",
       "<p>2000 rows × 2 columns</p>\n",
       "</div>"
      ],
      "text/plain": [
       "      minTimeLMPT  minTimeSPMT\n",
       "0        0.151929    31.260576\n",
       "1        0.107570    24.282885\n",
       "2        0.059060    54.783138\n",
       "3        0.008964    48.260670\n",
       "4        0.004383    37.048595\n",
       "...           ...          ...\n",
       "1995     0.034794    19.742989\n",
       "1996     0.062995    35.169987\n",
       "1997     0.046345    20.075399\n",
       "1998     0.029867    21.262285\n",
       "1999     0.032543    38.260548\n",
       "\n",
       "[2000 rows x 2 columns]"
      ]
     },
     "execution_count": 3,
     "metadata": {},
     "output_type": "execute_result"
    }
   ],
   "source": [
    "df"
   ]
  },
  {
   "cell_type": "code",
   "execution_count": 4,
   "metadata": {},
   "outputs": [],
   "source": [
    "df.to_csv('minTimes.csv', index=False)"
   ]
  },
  {
   "cell_type": "code",
   "execution_count": null,
   "metadata": {},
   "outputs": [],
   "source": []
  }
 ],
 "metadata": {
  "kernelspec": {
   "display_name": "Python 3",
   "language": "python",
   "name": "python3"
  },
  "language_info": {
   "codemirror_mode": {
    "name": "ipython",
    "version": 3
   },
   "file_extension": ".py",
   "mimetype": "text/x-python",
   "name": "python",
   "nbconvert_exporter": "python",
   "pygments_lexer": "ipython3",
   "version": "3.7.6"
  }
 },
 "nbformat": 4,
 "nbformat_minor": 4
}
